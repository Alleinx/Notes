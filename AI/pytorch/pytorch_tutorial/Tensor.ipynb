{
 "cells": [
  {
   "cell_type": "code",
   "execution_count": 86,
   "metadata": {},
   "outputs": [],
   "source": [
    "import torch\n",
    "import numpy as np"
   ]
  },
  {
   "cell_type": "code",
   "execution_count": 87,
   "metadata": {},
   "outputs": [
    {
     "name": "stdout",
     "output_type": "stream",
     "text": [
      "tensor([[0., 0., 0.],\n",
      "        [0., 0., 0.],\n",
      "        [0., 0., 0.],\n",
      "        [0., 0., 0.],\n",
      "        [0., 0., 0.]])\n"
     ]
    }
   ],
   "source": [
    "# Construct a 5x3 matrix, unitialized, the value is all random.\n",
    "x = torch.empty(5,3)\n",
    "print(x)"
   ]
  },
  {
   "cell_type": "code",
   "execution_count": 88,
   "metadata": {},
   "outputs": [
    {
     "name": "stdout",
     "output_type": "stream",
     "text": [
      "tensor([[0.5234, 0.8670, 0.5657],\n",
      "        [0.9090, 0.0939, 0.4472],\n",
      "        [0.7692, 0.3984, 0.4631],\n",
      "        [0.6804, 0.6074, 0.5757],\n",
      "        [0.8101, 0.7735, 0.9022]])\n",
      "tensor([[0.2714, 0.2833, 0.3242],\n",
      "        [0.6935, 0.8722, 0.7527],\n",
      "        [0.6513, 0.7990, 0.6988],\n",
      "        [0.5922, 0.9492, 0.6755],\n",
      "        [0.9310, 0.7571, 0.0162]])\n",
      "x+y: tensor([[0.7947, 1.1503, 0.8899],\n",
      "        [1.6025, 0.9661, 1.2000],\n",
      "        [1.4205, 1.1974, 1.1620],\n",
      "        [1.2726, 1.5566, 1.2512],\n",
      "        [1.7412, 1.5306, 0.9184]])\n",
      "x-y: tensor([[ 0.2520,  0.5838,  0.2414],\n",
      "        [ 0.2155, -0.7782, -0.3055],\n",
      "        [ 0.1178, -0.4006, -0.2357],\n",
      "        [ 0.0882, -0.3418, -0.0999],\n",
      "        [-0.1209,  0.0165,  0.8860]])\n",
      "x*y: tensor([[0.1420, 0.2456, 0.1834],\n",
      "        [0.6304, 0.0819, 0.3366],\n",
      "        [0.5010, 0.3183, 0.3237],\n",
      "        [0.4030, 0.5766, 0.3889],\n",
      "        [0.7543, 0.5856, 0.0146]])\n",
      "x / y: tensor([[ 1.9287,  3.0607,  1.7445],\n",
      "        [ 1.3108,  0.1077,  0.5941],\n",
      "        [ 1.1809,  0.4987,  0.6627],\n",
      "        [ 1.1489,  0.6399,  0.8521],\n",
      "        [ 0.8701,  1.0217, 55.6984]])\n",
      "tensor([[0.7947, 1.1503, 0.8899],\n",
      "        [1.6025, 0.9661, 1.2000],\n",
      "        [1.4205, 1.1974, 1.1620],\n",
      "        [1.2726, 1.5566, 1.2512],\n",
      "        [1.7412, 1.5306, 0.9184]])\n",
      "tensor([[0.2714, 0.6935, 0.6513, 0.5922, 0.9310],\n",
      "        [0.2833, 0.8722, 0.7990, 0.9492, 0.7571],\n",
      "        [0.3242, 0.7527, 0.6988, 0.6755, 0.0162]]) tensor([[0.2714, 0.2833, 0.3242],\n",
      "        [0.6935, 0.8722, 0.7527],\n",
      "        [0.6513, 0.7990, 0.6988],\n",
      "        [0.5922, 0.9492, 0.6755],\n",
      "        [0.9310, 0.7571, 0.0162]])\n",
      "tensor([[0.2714, 0.6935, 0.6513, 0.5922, 0.9310],\n",
      "        [0.2833, 0.8722, 0.7990, 0.9492, 0.7571],\n",
      "        [0.3242, 0.7527, 0.6988, 0.6755, 0.0162]])\n"
     ]
    }
   ],
   "source": [
    "# Construct a randomly initialized matrix\n",
    "x = torch.rand(5,3)\n",
    "y = torch.rand(5,3)\n",
    "\n",
    "print(x)\n",
    "print(y)\n",
    "\n",
    "# operations:\n",
    "\n",
    "# Element-wise Addition\n",
    "print('x+y:', x+y)\n",
    "# Element-wise subtraction \n",
    "print('x-y:', x-y)\n",
    "# Element-wise productin\n",
    "print('x*y:', x*y)\n",
    "# Element-wise division\n",
    "print('x / y:', x/y)\n",
    "\n",
    "\n",
    "# in-place addition\n",
    "# Any operation that mutates a tensor in-place is post-ftixed with an _.\n",
    "# e.g. x.copy_(y), x.t_() \n",
    "x.add_(y)\n",
    "print(x)\n",
    "\n",
    "# y.T is not an in-place operation. \n",
    "print(y.T, y)\n",
    "\n",
    "# In-place transpose\n",
    "y.t_()\n",
    "print(y)"
   ]
  },
  {
   "cell_type": "code",
   "execution_count": 89,
   "metadata": {},
   "outputs": [
    {
     "name": "stdout",
     "output_type": "stream",
     "text": [
      "tensor([[0.7947, 1.1503, 0.8899],\n",
      "        [1.6025, 0.9661, 1.2000],\n",
      "        [1.4205, 1.1974, 1.1620],\n",
      "        [1.2726, 1.5566, 1.2512],\n",
      "        [1.7412, 1.5306, 0.9184]])\n",
      "tensor([0.8899, 1.2000, 1.1620, 1.2512, 0.9184])\n"
     ]
    }
   ],
   "source": [
    "# Construct a tensor directly from data:\n",
    "# c = torch.tensor(data)\n",
    "\n",
    "# Tocopy construct from a tensor, it's recommend to use sourceTensor.clone().detach()\n",
    "c = x.clone().detach()\n",
    "print(c)\n",
    "# Use Numpy indexing:\n",
    "# Get the value of last column\n",
    "print(c[:, -1])"
   ]
  },
  {
   "cell_type": "code",
   "execution_count": 90,
   "metadata": {},
   "outputs": [
    {
     "name": "stdout",
     "output_type": "stream",
     "text": [
      "torch.Size([4, 4])\n",
      "torch.Size([16])\n",
      "torch.Size([2, 8])\n"
     ]
    }
   ],
   "source": [
    "x = torch.randn(4,4)\n",
    "print(x.shape)\n",
    "# If you want to resize/reshape the tensor, you can use torch.view()\n",
    "y = x.view(16)\n",
    "print(y.shape)\n",
    "# the size -1 is inferred from other dimensions.\n",
    "z = x.view(-1, 8)\n",
    "print(z.shape)"
   ]
  },
  {
   "cell_type": "code",
   "execution_count": 91,
   "metadata": {},
   "outputs": [
    {
     "name": "stdout",
     "output_type": "stream",
     "text": [
      "tensor([0.5889])\n",
      "0.5889042019844055\n"
     ]
    }
   ],
   "source": [
    "# If you have a one element tensor, use .item() to get the value as a python number\n",
    "x = torch.rand(1)\n",
    "print(x)\n",
    "print(x.item())"
   ]
  },
  {
   "cell_type": "code",
   "execution_count": 92,
   "metadata": {},
   "outputs": [
    {
     "name": "stdout",
     "output_type": "stream",
     "text": [
      "tensor([1., 1., 1., 1., 1.])\n",
      "[1. 1. 1. 1. 1.] <class 'numpy.ndarray'>\n",
      "tensor([11., 11., 11., 11., 11.])\n",
      "[11. 11. 11. 11. 11.]\n"
     ]
    }
   ],
   "source": [
    "# Converting a Torch Tensor to a Numpy array and vice versa is simple\n",
    "# The Torch Tensor and Numpy array will share their underlying memory locations,\n",
    "# and changing one will change the other.\n",
    "\n",
    "# Converting a torch tensor to a numpy array\n",
    "a = torch.ones(5)\n",
    "print(a)\n",
    "b = a.numpy()\n",
    "print(b, type(b))\n",
    "\n",
    "# changing one will affect the others:\n",
    "a.add_(10)\n",
    "print(a)\n",
    "print(b)\n",
    "\n"
   ]
  },
  {
   "cell_type": "code",
   "execution_count": 93,
   "metadata": {},
   "outputs": [
    {
     "name": "stdout",
     "output_type": "stream",
     "text": [
      "[2. 2. 2. 2. 2.] tensor([2., 2., 2., 2., 2.], dtype=torch.float64)\n"
     ]
    }
   ],
   "source": [
    "# Converting numpy array to torch tensor\n",
    "a = np.ones(5)\n",
    "b = torch.from_numpy(a)\n",
    "\n",
    "# Same as converting Tensor to numpy array, changing one will affect the others.\n",
    "# All the Tensors on the CPU except a CharTensor support converting to Numpy and back.\n",
    "a += 1\n",
    "print(a, b)"
   ]
  },
  {
   "cell_type": "code",
   "execution_count": 94,
   "metadata": {},
   "outputs": [],
   "source": [
    "# Tensors on CUDA:\n",
    "if torch.cuda.is_available():\n",
    "    device = torch.device(\"cuda\")\n",
    "    y = torch.ones_like(x, device=device) #directly create a tensor on GPU\n",
    "    x = x.to(device)                      #.to(\"cuda\") could move tensors in GPU\n",
    "    z = x + y\n",
    "    print(z)\n",
    "    print(z.to(\"cpu\", torch.double))      #.to() can also change dtype."
   ]
  },
  {
   "cell_type": "code",
   "execution_count": 121,
   "metadata": {},
   "outputs": [
    {
     "name": "stdout",
     "output_type": "stream",
     "text": [
      "tensor([[4.5000, 4.5000],\n",
      "        [4.5000, 4.5000]])\n",
      "False None\n",
      "False\n"
     ]
    }
   ],
   "source": [
    "# The autograd package provides automatic differentiation for all operations on Tensors.\n",
    "# Your BP is defined by how your code is run, and that every single iteration can be different.\n",
    "\n",
    "\n",
    "# torch.Tensor is the central class. \n",
    "# If you sef its attribute '.requires_grad' as 'True', it starts to track all operations on it.\n",
    "# When you finish your computation, you can call '.backward()' and have all the gradients computed automatically.\n",
    "# The gradient for this tensor will be accumulated into '.grad' attribute.\n",
    "\n",
    "# To stop a tensor from tracking history, you can call '.detach()' to detach if from the computation history, and to prevent future computation from being tracked.\n",
    "\n",
    "# To prevent tracking history(memory using), you can wrap the code block in 'with torch.no_grad()'.\n",
    "# This can be helpful when evaluating a model because the model may have trainable parameters with 'requires_grad = True', but for which we don't need the gradients.\n",
    "\n",
    "# 'Tensor' and 'Function' are interconnected and build up an acyclic(not recycle) graph, that encodes a complete history of computation.\n",
    "# Each tensor has a '.grad_fn' attribute that references a 'Function' that has created the 'Tensor'.\n",
    "\n",
    "# If you wan to calculate the derivatives, you can call '.backward()' on a 'Tensor'.\n",
    "# If 'Tensor' is a scalar, you don't need to specify any arguments to 'backward()'\n",
    "# However, if it has more elements, you need to specify a 'gradient' argument that is a tensor of matching shape.\n",
    "\n",
    "x = torch.ones(2, 2, requires_grad=True)\n",
    "\n",
    "y = x + 2\n",
    "\n",
    "z = y * y * 3\n",
    "\n",
    "out = z.mean()\n",
    "\n",
    "# Becaues out contains a single scalar, out.backward() is equivlant to out.backward(torch.tensor(1.))\n",
    "out.backward()\n",
    "# If out is no longer a scalar, torch.autograd couldn't compute the full Jacobian directly, but if we want the\n",
    "# Vector-Jacobian product, simply pass the vector to backward as argument.\n",
    "\n",
    "print(x.grad)\n",
    "\n",
    "# Could stop a tensor from tracking history\n",
    "x = x.detach()\n",
    "print(x.requires_grad, x.grad)\n",
    "\n",
    "# can also stop autograd from tracking history on Tensors by wrapping the code block in 'with torch.no_grad()'\n",
    "with torch.no_grad():\n",
    "    print((x ** 2).requires_grad)"
   ]
  },
  {
   "cell_type": "code",
   "execution_count": 122,
   "metadata": {},
   "outputs": [
    {
     "name": "stdout",
     "output_type": "stream",
     "text": [
      "False\n",
      "True\n",
      "tensor([[-11.7981,  -1.8759],\n",
      "        [ -1.1495, -39.3355]])\n"
     ]
    }
   ],
   "source": [
    "a = torch.rand(2,2)\n",
    "a = ((a * 3) / (a - 1))\n",
    "\n",
    "print(a.requires_grad)\n",
    "\n",
    "# .requires_grad_() changes an existing Tensor's requires_grad flag in-place.\n",
    "a.requires_grad_(True)\n",
    "print(a.requires_grad)\n",
    "\n",
    "# equivlant to \\sum(a \\odot a)\n",
    "b = (a * a).sum()\n",
    "\n",
    "b.backward()\n",
    "print(a.grad)"
   ]
  }
 ],
 "metadata": {
  "kernelspec": {
   "display_name": "Python 3",
   "language": "python",
   "name": "python3"
  },
  "language_info": {
   "codemirror_mode": {
    "name": "ipython",
    "version": 3
   },
   "file_extension": ".py",
   "mimetype": "text/x-python",
   "name": "python",
   "nbconvert_exporter": "python",
   "pygments_lexer": "ipython3",
   "version": "3.7.4"
  }
 },
 "nbformat": 4,
 "nbformat_minor": 4
}
