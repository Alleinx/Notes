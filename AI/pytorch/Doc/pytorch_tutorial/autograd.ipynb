{
 "cells": [
  {
   "cell_type": "code",
   "execution_count": null,
   "metadata": {},
   "outputs": [],
   "source": [
    "import torch"
   ]
  },
  {
   "cell_type": "code",
   "execution_count": null,
   "metadata": {},
   "outputs": [],
   "source": [
    "# The autograd package provides automatic differentiation for all operations on Tensors.\n",
    "# Your BP is defined by how your code is run, and that every single iteration can be different.\n",
    "\n",
    "\n",
    "# torch.Tensor is the central class. \n",
    "# If you sef its attribute '.requires_grad' as 'True', it starts to track all operations on it.\n",
    "# When you finish your computation, you can call '.backward()' and have all the gradients computed automatically.\n",
    "# The gradient for this tensor will be accumulated into '.grad' attribute.\n",
    "\n",
    "# To stop a tensor from tracking history, you can call '.detach()' to detach if from the computation history, and to prevent future computation from being tracked.\n",
    "\n",
    "# To prevent tracking history(memory using), you can wrap the code block in 'with torch.no_grad()'.\n",
    "# This can be helpful when evaluating a model because the model may have trainable parameters with 'requires_grad = True', but for which we don't need the gradients.\n",
    "\n",
    "# 'Tensor' and 'Function' are interconnected and build up an acyclic(not recycle) graph, that encodes a complete history of computation.\n",
    "# Each tensor has a '.grad_fn' attribute that references a 'Function' that has created the 'Tensor'.\n",
    "\n",
    "# If you wan to calculate the derivatives, you can call '.backward()' on a 'Tensor'.\n",
    "# If 'Tensor' is a scalar, you don't need to specify any arguments to 'backward()'\n",
    "# However, if it has more elements, you need to specify a 'gradient' argument that is a tensor of matching shape.\n",
    "\n",
    "x = torch.ones(2, 2, requires_grad=True)\n",
    "\n",
    "y = x + 2\n",
    "\n",
    "z = y * y * 3\n",
    "\n",
    "out = z.mean()\n",
    "\n",
    "# Becaues out contains a single scalar, out.backward() is equivlant to out.backward(torch.tensor(1.))\n",
    "out.backward()\n",
    "# If out is no longer a scalar, torch.autograd couldn't compute the full Jacobian directly, but if we want the\n",
    "# Vector-Jacobian product, simply pass the vector to backward as argument.\n",
    "\n",
    "print(x.grad)\n",
    "\n",
    "# Could stop a tensor from tracking history\n",
    "x = x.detach()\n",
    "print(x.requires_grad, x.grad)\n",
    "\n",
    "# can also stop autograd from tracking history on Tensors by wrapping the code block in 'with torch.no_grad()'\n",
    "with torch.no_grad():\n",
    "    print((x ** 2).requires_grad)"
   ]
  },
  {
   "cell_type": "code",
   "execution_count": null,
   "metadata": {},
   "outputs": [],
   "source": [
    "a = torch.rand(2,2)\n",
    "a = ((a * 3) / (a - 1))\n",
    "\n",
    "print(a.requires_grad)\n",
    "\n",
    "# .requires_grad_() changes an existing Tensor's requires_grad flag in-place.\n",
    "a.requires_grad_(True)\n",
    "print(a.requires_grad)\n",
    "\n",
    "# equivlant to \\sum(a \\odot a)\n",
    "b = (a * a).sum()\n",
    "\n",
    "b.backward()\n",
    "print(a.grad)"
   ]
  }
 ],
 "metadata": {
  "kernelspec": {
   "display_name": "Python 3",
   "language": "python",
   "name": "python3"
  },
  "language_info": {
   "codemirror_mode": {
    "name": "ipython",
    "version": 3
   },
   "file_extension": ".py",
   "mimetype": "text/x-python",
   "name": "python",
   "nbconvert_exporter": "python",
   "pygments_lexer": "ipython3",
   "version": "3.7.4"
  }
 },
 "nbformat": 4,
 "nbformat_minor": 4
}
